{
 "cells": [
  {
   "cell_type": "markdown",
   "metadata": {},
   "source": [
    "### A/B Testing"
   ]
  },
  {
   "cell_type": "code",
   "execution_count": 1,
   "metadata": {},
   "outputs": [],
   "source": [
    "#............................\n",
    "# A/B Testing : July 16, 2018\n",
    "#............................\n",
    "\n",
    "import numpy as np\n",
    "import pandas as pd\n",
    "from scipy import stats"
   ]
  },
  {
   "cell_type": "code",
   "execution_count": 2,
   "metadata": {},
   "outputs": [],
   "source": [
    "# get data\n",
    "df = pd.read_csv('advertisement_clicks.csv')\n",
    "a = df[df['advertisement_id'] == 'A']\n",
    "b = df[df['advertisement_id'] == 'B']\n",
    "a = a['action']\n",
    "b = b['action']"
   ]
  },
  {
   "cell_type": "code",
   "execution_count": 4,
   "metadata": {},
   "outputs": [
    {
     "name": "stdout",
     "output_type": "stream",
     "text": [
      "Control_mean: 0.304\n",
      "Variant_mean: 0.372\n"
     ]
    }
   ],
   "source": [
    "print(\"Control_mean:\", a.mean())\n",
    "print(\"Variant_mean:\", b.mean())"
   ]
  },
  {
   "cell_type": "code",
   "execution_count": 6,
   "metadata": {},
   "outputs": [
    {
     "name": "stdout",
     "output_type": "stream",
     "text": [
      "t-statistic:\t -3.2211732138019786 p-value:\t 0.0012971905467125246\n"
     ]
    }
   ],
   "source": [
    "# built-in t-test:\n",
    "t, p = stats.ttest_ind(a, b)\n",
    "print(\"t-statistic:\\t\", t, \"p-value:\\t\", p)"
   ]
  },
  {
   "cell_type": "code",
   "execution_count": 7,
   "metadata": {},
   "outputs": [
    {
     "name": "stdout",
     "output_type": "stream",
     "text": [
      "Welch's t-test:\n",
      "t-statistic:\t -3.2211732138019786 p-value:\t 0.0012972410374001632\n"
     ]
    }
   ],
   "source": [
    "# welch's t-test:\n",
    "t, p = stats.ttest_ind(a, b, equal_var=False)\n",
    "print(\"Welch's t-test:\")\n",
    "print(\"t-statistic:\\t\", t, \"p-value:\\t\", p)"
   ]
  },
  {
   "cell_type": "code",
   "execution_count": null,
   "metadata": {},
   "outputs": [],
   "source": [
    "# welch's t-test manual:\n",
    "N1 = len(a)\n",
    "s1_sq = a.var()\n",
    "N2 = len(b)\n",
    "s2_sq = b.var()\n",
    "t = (a.mean() - b.mean()) / np.sqrt(s1_sq / N1 + s2_sq / N2)\n",
    "\n",
    "nu1 = N1 - 1\n",
    "nu2 = N2 - 1\n",
    "df = (s1_sq / N1 + s2_sq / N2)**2 / ( (s1_sq*s1_sq) / (N1*N1 * nu1) + (s2_sq*s2_sq) / (N2*N2 * nu2) )\n",
    "p = (1 - stats.t.cdf(np.abs(t), df=df))*2\n",
    "print(\"Manual Welch t-test\")\n",
    "print(\"t-statistic:\\t\", t, \"p-value:\\t\", p)"
   ]
  }
 ],
 "metadata": {
  "kernelspec": {
   "display_name": "Python 3",
   "language": "python",
   "name": "python3"
  },
  "language_info": {
   "codemirror_mode": {
    "name": "ipython",
    "version": 3
   },
   "file_extension": ".py",
   "mimetype": "text/x-python",
   "name": "python",
   "nbconvert_exporter": "python",
   "pygments_lexer": "ipython3",
   "version": "3.6.5"
  }
 },
 "nbformat": 4,
 "nbformat_minor": 2
}
