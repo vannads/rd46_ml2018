{
 "cells": [
  {
   "cell_type": "markdown",
   "metadata": {},
   "source": [
    "## Introduction to Normality Tests in Python\n",
    "\n",
    "Ref: MachineLearningMastery.com -- Jason Brownlee\n",
    "\n",
    "An important decision point when working with a sample of data is whether to use parametric or nonparametric methods. Parametric methods assume that data has a known and specific distribution - often a Gaussian. If the sample data is not Gaussian, then the assumptions of parametric statistical tests are violated and nonparameric statstiscal methods must be used.\n",
    "\n"
   ]
  },
  {
   "cell_type": "markdown",
   "metadata": {},
   "source": [
    "#### Test Dataset"
   ]
  },
  {
   "cell_type": "code",
   "execution_count": 1,
   "metadata": {},
   "outputs": [
    {
     "name": "stdout",
     "output_type": "stream",
     "text": [
      "mean=50.303 stdv=4.426\n"
     ]
    }
   ],
   "source": [
    "# Generate Gaussian Data\n",
    "\n",
    "import numpy as np\n",
    "from numpy.random import seed\n",
    "from numpy.random import randn\n",
    "from numpy import mean\n",
    "from numpy import std\n",
    "from matplotlib import pyplot\n",
    "\n",
    "# Seed the random number generator\n",
    "seed(1)\n",
    "\n",
    "# Generate univariate observations\n",
    "data = 5 * randn(100) + 50\n",
    "\n",
    "# Summarize\n",
    "print('mean=%.3f stdv=%.3f' % (mean(data), std(data)))"
   ]
  },
  {
   "cell_type": "code",
   "execution_count": 2,
   "metadata": {},
   "outputs": [
    {
     "data": {
      "image/png": "[encoded data removed]",
      "text/plain": [
       "<Figure size 432x288 with 1 Axes>"
      ]
     },
     "metadata": {},
     "output_type": "display_data"
    }
   ],
   "source": [
    "import numpy as np\n",
    "import scipy.stats as stats\n",
    "import pylab as pl\n",
    "\n",
    "h = sorted(data)  #sorted\n",
    "\n",
    "fit = stats.norm.pdf(h, np.mean(h), np.std(h))  #this is a fitting indeed\n",
    "\n",
    "pl.plot(h,fit,'-o')\n",
    "\n",
    "pl.hist(h,density=True)      #use this to draw histogram of your data\n",
    "\n",
    "pl.show()"
   ]
  },
  {
   "cell_type": "markdown",
   "metadata": {},
   "source": [
    "## Shapiro-Wilk Test\n",
    "\n",
    "Samuel Shapiro & Martin Wilk"
   ]
  },
  {
   "cell_type": "code",
   "execution_count": 3,
   "metadata": {},
   "outputs": [
    {
     "name": "stdout",
     "output_type": "stream",
     "text": [
      "p <= alpha: Reject H0, not normal.\n",
      "p > alpha: Fail to reject H0, normal.\n",
      "\n",
      "Statistics = 0.99200, p = 0.82154\n",
      "\n",
      "Sample looks Gaussian (Fail to reject H0)\n"
     ]
    }
   ],
   "source": [
    "from scipy.stats import shapiro\n",
    "\n",
    "print('p <= alpha: Reject H0, not normal.')\n",
    "print('p > alpha: Fail to reject H0, normal.')\n",
    "\n",
    "stat, p = shapiro(data)\n",
    "print('\\nStatistics = %.5f, p = %.5f' %(stat, p))\n",
    "\n",
    "# interpret\n",
    "alpha = 0.05\n",
    "\n",
    "if p > alpha:\n",
    "    print('\\nSample looks Gaussian (Fail to reject H0)')\n",
    "else:\n",
    "    print('Sample does not look Gaussian (Reject H0)')"
   ]
  },
  {
   "cell_type": "markdown",
   "metadata": {},
   "source": [
    "## Anderson-Darling Test\n",
    "Theodore Anderson & Donald Darling"
   ]
  },
  {
   "cell_type": "code",
   "execution_count": 4,
   "metadata": {},
   "outputs": [
    {
     "name": "stdout",
     "output_type": "stream",
     "text": [
      "Statistic: 0.21965\n",
      " 15: 0.555, Data looks normal (fail to reject Ho)\n",
      " 10: 0.632, Data looks normal (fail to reject Ho)\n",
      "  5: 0.759, Data looks normal (fail to reject Ho)\n",
      "  2: 0.885, Data looks normal (fail to reject Ho)\n",
      "  1: 1.053, Data looks normal (fail to reject Ho)\n"
     ]
    }
   ],
   "source": [
    "from scipy.stats import anderson\n",
    "\n",
    "result = anderson(data)\n",
    "\n",
    "print('Statistic: %.5f' % result.statistic)\n",
    "\n",
    "p = 0\n",
    "for i in range(len(result.critical_values)):\n",
    "      sl, cv = result.significance_level[i], result.critical_values[i]\n",
    "      if result.statistic < result.critical_values[i]:\n",
    "          print('%3.f: %.3f, Data looks normal (fail to reject Ho)' %(sl, cv))\n",
    "      else:\n",
    "          print('%3.f: %.3f, Data looks normal (fail to reject Ho)' %(sl, cv))\n",
    "\n"
   ]
  },
  {
   "cell_type": "markdown",
   "metadata": {},
   "source": [
    "## D'Agostino's K^2 Test\n",
    "Ralph D'Agostino\n",
    "\n",
    "Calculates summary statistics from the data, namely Kurtosis and skewness,\n",
    "to determine if the data distribution departs from the normal distribution"
   ]
  },
  {
   "cell_type": "code",
   "execution_count": 5,
   "metadata": {},
   "outputs": [
    {
     "name": "stdout",
     "output_type": "stream",
     "text": [
      "Statistics = 0.102, p = 0.950\n",
      "\n",
      "Sample looks Gaussian (Fail to reject H0)\n"
     ]
    }
   ],
   "source": [
    "from scipy.stats import normaltest\n",
    "\n",
    "stat, p = normaltest(data)\n",
    "\n",
    "print('Statistics = %.3f, p = %.3f' %(stat, p))\n",
    "\n",
    "# interpret\n",
    "alpha = 0.05\n",
    "\n",
    "if p > alpha:\n",
    "    print('\\nSample looks Gaussian (Fail to reject H0)')\n",
    "else:\n",
    "    print('Sample does not look Gaussian (Reject H0)')"
   ]
  },
  {
   "cell_type": "markdown",
   "metadata": {},
   "source": [
    "### Thank You!"
   ]
  }
 ],
 "metadata": {
  "kernelspec": {
   "display_name": "Python 3",
   "language": "python",
   "name": "python3"
  },
  "language_info": {
   "codemirror_mode": {
    "name": "ipython",
    "version": 3
   },
   "file_extension": ".py",
   "mimetype": "text/x-python",
   "name": "python",
   "nbconvert_exporter": "python",
   "pygments_lexer": "ipython3",
   "version": "3.6.5"
  }
 },
 "nbformat": 4,
 "nbformat_minor": 2
}
