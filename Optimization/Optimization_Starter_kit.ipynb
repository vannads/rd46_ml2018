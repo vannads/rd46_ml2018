{
 "cells": [
  {
   "cell_type": "markdown",
   "metadata": {},
   "source": [
    "### Optimization with Python"
   ]
  },
  {
   "cell_type": "markdown",
   "metadata": {},
   "source": [
    "Optimization deals with selecting the best option among a number of possible choices that are feasible or don't violate constraints.\n",
    "\n",
    "Optimization problems may include (1) objective functions (2) Constraints\n"
   ]
  },
  {
   "cell_type": "code",
   "execution_count": 12,
   "metadata": {},
   "outputs": [
    {
     "data": {
      "text/latex": [
       "\n",
       "\\begin{eqnarray}\n",
       "Objective\\ Function : min\\ x_1x_4(x_1+x_2+x_3) ; \\\\\n",
       "\\ Subject \\ to \\\\\n",
       "(1) \\ x_1x_2x_3x_4 \\geq 25 \\\\\n",
       "(2) \\ x_1^2x_2^2x_3^2x_4^2 = 40 \\\\\n",
       "(3) \\ 1 \\leq x_1x_2x_3x_4 \\geq 5 \\\\ \n",
       "(4) \\ x_0 = (1,5,5,1)\n",
       "\\end{eqnarray}\n"
      ],
      "text/plain": [
       "<IPython.core.display.Latex object>"
      ]
     },
     "execution_count": 12,
     "metadata": {},
     "output_type": "execute_result"
    }
   ],
   "source": [
    "from IPython.display import Latex\n",
    "Latex(r\"\"\"\n",
    "\\begin{eqnarray}\n",
    "Objective\\ Function : min\\ x_1x_4(x_1+x_2+x_3) ; \\\\\n",
    "\\ Subject \\ to \\\\\n",
    "(1) \\ x_1x_2x_3x_4 \\geq 25 \\\\\n",
    "(2) \\ x_1^2x_2^2x_3^2x_4^2 = 40 \\\\\n",
    "(3) \\ 1 \\leq x_1x_2x_3x_4 \\geq 5 \\\\ \n",
    "(4) \\ x_0 = (1,5,5,1)\n",
    "\\end{eqnarray}\n",
    "\"\"\")"
   ]
  },
  {
   "cell_type": "markdown",
   "metadata": {},
   "source": [
    "import numpy as np\n",
    "from scipy.optimize import minimize"
   ]
  },
  {
   "cell_type": "code",
   "execution_count": 8,
   "metadata": {},
   "outputs": [],
   "source": [
    "def objective(x):\n",
    "    return x[0]*x[3]*(x[0]*x[1]*x[2])"
   ]
  },
  {
   "cell_type": "code",
   "execution_count": 9,
   "metadata": {},
   "outputs": [],
   "source": [
    "def constraint1(x):\n",
    "    return x[0]*x[1]*x[2]*x[3]-25.0"
   ]
  },
  {
   "cell_type": "code",
   "execution_count": 14,
   "metadata": {},
   "outputs": [],
   "source": [
    "def constraint2(x):\n",
    "    sum_eq = 40.0\n",
    "    for i in range(4):\n",
    "        sum_eq = sum_eq - x[i]**2     \n",
    "    return sum_eq"
   ]
  },
  {
   "cell_type": "code",
   "execution_count": 32,
   "metadata": {},
   "outputs": [
    {
     "name": "stdout",
     "output_type": "stream",
     "text": [
      "Initial Objective: 50.0\n"
     ]
    }
   ],
   "source": [
    "# Intital guesses\n",
    "n=4\n",
    "x0=np.zeros(n) # fill_value = 0.0\n",
    "#x0=np.full(n, 10.0) # Note:- fill_value can be anything\n",
    "x0[0]=1.0\n",
    "x0[1]=5.0\n",
    "x0[2]=5.0\n",
    "x0[2]=1.0\n",
    "\n",
    "#Show intitial objective\n",
    "print('Initial Objective: ' +str(objective(x0)))"
   ]
  },
  {
   "cell_type": "code",
   "execution_count": 40,
   "metadata": {},
   "outputs": [],
   "source": [
    "# Optimize\n",
    "b = (1.0, 5.0)\n",
    "bnds = (b, b, b, b)\n",
    "con1 = {'type': 'ineq', 'fun': constraint1}\n",
    "con2 = {'type': 'eq', 'fun': constraint2}\n",
    "cons = ([con1, con2])\n",
    "solution = minimize(objective, x0, method='SLSQP', bounds=bnds, constraints=cons) \n",
    "# Sequential Least SQuares Programming (SLSQP)\n",
    "\n",
    "x=solution.x"
   ]
  },
  {
   "cell_type": "code",
   "execution_count": 42,
   "metadata": {},
   "outputs": [
    {
     "name": "stdout",
     "output_type": "stream",
     "text": [
      "Final Objective: 24.999999996823462\n",
      "**************************\n",
      "Solution\n",
      "**************************\n",
      "x1 =1.0000000000005638\n",
      "x2 =4.312350058988137\n",
      "x3 =1.344348889884224\n",
      "x4 =4.312350058961161\n",
      "**************************\n"
     ]
    }
   ],
   "source": [
    "# Show final objective\n",
    "\n",
    "print('Final Objective: '+ str(objective(x)))\n",
    "\n",
    "#Print solution\n",
    "print('**************************')\n",
    "print('Solution')\n",
    "print('**************************')\n",
    "print('x1 =' + str(x[0]))\n",
    "print('x2 =' + str(x[1]))\n",
    "print('x3 =' + str(x[2]))\n",
    "print('x4 =' + str(x[3]))\n",
    "print('**************************')"
   ]
  },
  {
   "cell_type": "code",
   "execution_count": null,
   "metadata": {},
   "outputs": [],
   "source": []
  }
 ],
 "metadata": {
  "kernelspec": {
   "display_name": "Python 3",
   "language": "python",
   "name": "python3"
  },
  "language_info": {
   "codemirror_mode": {
    "name": "ipython",
    "version": 3
   },
   "file_extension": ".py",
   "mimetype": "text/x-python",
   "name": "python",
   "nbconvert_exporter": "python",
   "pygments_lexer": "ipython3",
   "version": "3.6.5"
  }
 },
 "nbformat": 4,
 "nbformat_minor": 2
}
