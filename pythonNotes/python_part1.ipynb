{
 "cells": [
  {
   "cell_type": "markdown",
   "metadata": {},
   "source": [
    "### 1. Return odd number elements in a list"
   ]
  },
  {
   "cell_type": "code",
   "execution_count": null,
   "metadata": {},
   "outputs": [],
   "source": [
    "def odd_number_elements(myList):\n",
    "    return myList[1::2]\n",
    "\n",
    "newList = [1, 0, -6, 3, 6, 2, -7]\n",
    "\n",
    "assert odd_number_elements(newList) == [0, 3, 2]\n",
    "print('passed')"
   ]
  },
  {
   "cell_type": "markdown",
   "metadata": {},
   "source": [
    "### 2. Centered average, after removing outliers from both the ends"
   ]
  },
  {
   "cell_type": "code",
   "execution_count": null,
   "metadata": {},
   "outputs": [],
   "source": [
    "def centered_avg(myList):\n",
    "    \n",
    "    myList.sort()\n",
    "    temp = myList[1:-1]\n",
    "    total = 0.0\n",
    "    \n",
    "    for ele in temp:\n",
    "        total += ele\n",
    "       \n",
    "    return total/(len(temp))\n",
    "\n",
    "newList = [1, 0, -60, 3, 6, 200, -7]\n",
    "\n",
    "assert centered_avg(newList) == 0.6\n",
    "print('passed')\n"
   ]
  },
  {
   "cell_type": "markdown",
   "metadata": {},
   "source": [
    "### 3. String xplosion -- removing repeating characters"
   ]
  },
  {
   "cell_type": "code",
   "execution_count": 4,
   "metadata": {},
   "outputs": [
    {
     "name": "stdout",
     "output_type": "stream",
     "text": [
      "Passed\n"
     ]
    }
   ],
   "source": [
    "def string_xplosion(myStr):\n",
    "    \n",
    "    result =''\n",
    "    mySet = set()\n",
    "    temp = myStr.lower()\n",
    "    \n",
    "    for ele in temp:\n",
    "        if ele not in mySet:\n",
    "            mySet.add(ele)     \n",
    "            result += ele    \n",
    "  \n",
    "    return result\n",
    "\n",
    "myStr = 'SSaSSat'\n",
    "\n",
    "assert string_xplosion(myStr) == 'sat'\n",
    "print(\"Passed\")"
   ]
  },
  {
   "cell_type": "markdown",
   "metadata": {},
   "source": [
    "### 4. Returning digits in a number as a list"
   ]
  },
  {
   "cell_type": "code",
   "execution_count": 5,
   "metadata": {},
   "outputs": [
    {
     "name": "stdout",
     "output_type": "stream",
     "text": [
      "Passed\n"
     ]
    }
   ],
   "source": [
    "def digit_list(myNum):\n",
    "    \n",
    "    return list(str(myNum))\n",
    "       \n",
    "myNum = 1297\n",
    "assert digit_list(myNum) == ['1', '2', '9', '7']\n",
    "print('Passed')"
   ]
  }
 ],
 "metadata": {
  "kernelspec": {
   "display_name": "Python 3",
   "language": "python",
   "name": "python3"
  },
  "language_info": {
   "codemirror_mode": {
    "name": "ipython",
    "version": 3
   },
   "file_extension": ".py",
   "mimetype": "text/x-python",
   "name": "python",
   "nbconvert_exporter": "python",
   "pygments_lexer": "ipython3",
   "version": "3.6.5"
  }
 },
 "nbformat": 4,
 "nbformat_minor": 2
}
