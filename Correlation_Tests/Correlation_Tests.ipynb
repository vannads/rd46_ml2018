{
 "cells": [
  {
   "cell_type": "markdown",
   "metadata": {},
   "source": [
    "## Correlation Tests\n",
    "\n",
    "Statistical tests used to check if two samples are related"
   ]
  },
  {
   "cell_type": "markdown",
   "metadata": {},
   "source": [
    "### Pearson's Correlation Coefficient\n",
    "\n",
    "Assumptions:\n",
    "\n",
    "-  Observations in each sample are independent and identically distributed\n",
    "-  Observations on each sample are normally distributed\n",
    "-  Onservations in each sample have the same variance\n",
    "\n",
    "Interpretation:\n",
    "\n",
    "-  Ho: The two samples are independent\n",
    "-  Ha: There is a dependency between the samples"
   ]
  },
  {
   "cell_type": "code",
   "execution_count": 1,
   "metadata": {},
   "outputs": [
    {
     "name": "stdout",
     "output_type": "stream",
     "text": [
      ":: PASS\n",
      ":: Correlation_Coefficient : 0.6282774159243043 p-value = 0.05173590160339759\n",
      ":: Positive Correlation\n"
     ]
    }
   ],
   "source": [
    "from scipy.stats import pearsonr\n",
    "\n",
    "data1 = [173, 165, 173, 183, 178, 188, 180, 183, 163, 178]\n",
    "data2 = [65, 57, 77, 89, 93, 73, 83, 86, 70, 83]\n",
    "\n",
    "assert(len(data1) == len(data2))\n",
    "print(':: PASS')\n",
    "\n",
    "# Note: p-values are not entirely reliable, but are probabbly reasonable for datasets larger than 500 or so.\n",
    "\n",
    "corr, p = pearsonr(data1, data2)\n",
    "print(\":: Correlation_Coefficient :\", corr, \"p-value =\", p)\n",
    "\n",
    "if corr > 0:\n",
    "    print(\":: Positive Correlation\")\n",
    "elif corr < 0:\n",
    "    print(\":: Negative Correlation\")\n",
    "else:\n",
    "    print(\":: No Correlation\")"
   ]
  },
  {
   "cell_type": "markdown",
   "metadata": {},
   "source": [
    "### Spearman's Rank Correlation\n",
    "\n",
    "Tests whether two samples have a monotonic relationship"
   ]
  },
  {
   "cell_type": "code",
   "execution_count": 2,
   "metadata": {},
   "outputs": [
    {
     "name": "stdout",
     "output_type": "stream",
     "text": [
      ":: Correlation_Coefficient : 0.5859005966748804 p-value = 0.07509685186617432\n",
      ":: Positive Correlation\n"
     ]
    }
   ],
   "source": [
    "from scipy.stats import spearmanr\n",
    "\n",
    "corr, p = spearmanr(data1, data2)\n",
    "print(\":: Correlation_Coefficient :\", corr, \"p-value =\", p)\n",
    "\n",
    "if corr > 0:\n",
    "    print(\":: Positive Correlation\")\n",
    "elif corr < 0:\n",
    "    print(\":: Negative Correlation\")\n",
    "else:\n",
    "    print(\":: No Correlation\")"
   ]
  },
  {
   "cell_type": "markdown",
   "metadata": {},
   "source": [
    "### Kendall's Rank Correlation"
   ]
  },
  {
   "cell_type": "code",
   "execution_count": 3,
   "metadata": {},
   "outputs": [
    {
     "name": "stdout",
     "output_type": "stream",
     "text": [
      ":: Correlation_Coefficient : 0.4419799999392736 p-value = 0.0842041111104205\n",
      ":: Positive Correlation\n"
     ]
    }
   ],
   "source": [
    "from scipy.stats import kendalltau\n",
    "\n",
    "corr, p = kendalltau(data1, data2)\n",
    "print(\":: Correlation_Coefficient :\", corr, \"p-value =\", p)\n",
    "\n",
    "if corr > 0:\n",
    "    print(\":: Positive Correlation\")\n",
    "elif corr < 0:\n",
    "    print(\":: Negative Correlation\")\n",
    "else:\n",
    "    print(\":: No Correlation\")"
   ]
  },
  {
   "cell_type": "markdown",
   "metadata": {},
   "source": [
    "## Parametric Statistical Hypothesis Tests\n"
   ]
  },
  {
   "cell_type": "markdown",
   "metadata": {},
   "source": [
    "### Student's t-test\n",
    "Tests whether the \"mean\" if two independent samples are significantly different. "
   ]
  },
  {
   "cell_type": "code",
   "execution_count": 5,
   "metadata": {},
   "outputs": [
    {
     "name": "stdout",
     "output_type": "stream",
     "text": [
      "22.529666137150024 1.221053246953295e-14\n"
     ]
    }
   ],
   "source": [
    "from scipy.stats import ttest_ind\n",
    "stat, p = ttest_ind(data1, data2)\n",
    "print(stat, p)"
   ]
  },
  {
   "cell_type": "markdown",
   "metadata": {},
   "source": [
    "### Paired Student's T-Test\n",
    "T-test on TWO RELATED samples"
   ]
  },
  {
   "cell_type": "code",
   "execution_count": 7,
   "metadata": {},
   "outputs": [
    {
     "name": "stdout",
     "output_type": "stream",
     "text": [
      "35.23581224648163 5.904446246610732e-11\n"
     ]
    }
   ],
   "source": [
    "from scipy.stats import ttest_rel\n",
    "t_stat, p = ttest_rel(data1, data2)\n",
    "\n",
    "print(t_stat, p)"
   ]
  },
  {
   "cell_type": "markdown",
   "metadata": {},
   "source": [
    "## Analysis of Variance (ANOVA) Test\n",
    "Performs a 1-way ANOVA. Tests the null hypothesis that two or more groups have the same populstion mesn.\n",
    "The test is applied to samples from two or more groups, possibly differing sizes.\n"
   ]
  },
  {
   "cell_type": "code",
   "execution_count": 8,
   "metadata": {},
   "outputs": [
    {
     "name": "stdout",
     "output_type": "stream",
     "text": [
      "507.5858562514435 1.2210532469533174e-14\n"
     ]
    }
   ],
   "source": [
    "from scipy.stats import f_oneway\n",
    "t_stat, p_value = f_oneway(data1, data2)\n",
    "print(t_stat, p_value)"
   ]
  },
  {
   "cell_type": "code",
   "execution_count": null,
   "metadata": {},
   "outputs": [],
   "source": []
  }
 ],
 "metadata": {
  "kernelspec": {
   "display_name": "Python 3",
   "language": "python",
   "name": "python3"
  },
  "language_info": {
   "codemirror_mode": {
    "name": "ipython",
    "version": 3
   },
   "file_extension": ".py",
   "mimetype": "text/x-python",
   "name": "python",
   "nbconvert_exporter": "python",
   "pygments_lexer": "ipython3",
   "version": "3.6.5"
  }
 },
 "nbformat": 4,
 "nbformat_minor": 2
}
