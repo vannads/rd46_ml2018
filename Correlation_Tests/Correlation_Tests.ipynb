{
 "cells": [
  {
   "cell_type": "markdown",
   "metadata": {},
   "source": [
    "## Correlation Tests\n",
    "\n",
    "Statistical tests used to check if two samples are related"
   ]
  },
  {
   "cell_type": "markdown",
   "metadata": {},
   "source": [
    "### Pearson's Correlation Coefficient\n",
    "\n",
    "Assumptions:\n",
    "\n",
    "-  Observations in each sample are independent and identically distributed\n",
    "-  Observations on each sample are normally distributed\n",
    "-  Onservations in each sample have the same variance\n",
    "\n",
    "Interpretation:\n",
    "\n",
    "-  Ho: The two samples are independent\n",
    "-  Ha: There is a dependency between the samples"
   ]
  },
  {
   "cell_type": "code",
   "execution_count": 12,
   "metadata": {},
   "outputs": [
    {
     "name": "stdout",
     "output_type": "stream",
     "text": [
      ":: PASS\n",
      ":: Correlation_Coefficient : 0.6282774159243043 p-value = 0.05173590160339759\n",
      ":: Positive Correlation\n"
     ]
    }
   ],
   "source": [
    "from scipy.stats import pearsonr\n",
    "\n",
    "data1 = [173, 165, 173, 183, 178, 188, 180, 183, 163, 178]\n",
    "data2 = [65, 57, 77, 89, 93, 73, 83, 86, 70, 83]\n",
    "\n",
    "assert(len(data1) == len(data2))\n",
    "print(':: PASS')\n",
    "\n",
    "# Note: p-values are not entirely reliable, but are probabbly reasonable for datasets larger than 500 or so.\n",
    "\n",
    "corr, p = pearsonr(data1, data2)\n",
    "print(\":: Correlation_Coefficient :\", corr, \"p-value =\", p)\n",
    "\n",
    "if corr > 0:\n",
    "    print(\":: Positive Correlation\")\n",
    "elif corr < 0:\n",
    "    print(\":: Negative Correlation\")\n",
    "else:\n",
    "    print(\":: No Correlation\")"
   ]
  },
  {
   "cell_type": "markdown",
   "metadata": {},
   "source": [
    "### Spearman's Rank Correlation\n",
    "\n",
    "Tests whether two samples have a monotonic relationship"
   ]
  },
  {
   "cell_type": "code",
   "execution_count": 13,
   "metadata": {},
   "outputs": [
    {
     "name": "stdout",
     "output_type": "stream",
     "text": [
      ":: Correlation_Coefficient : 0.5859005966748804 p-value = 0.07509685186617432\n",
      ":: Positive Correlation\n"
     ]
    }
   ],
   "source": [
    "from scipy.stats import spearmanr\n",
    "\n",
    "corr, p = spearmanr(data1, data2)\n",
    "print(\":: Correlation_Coefficient :\", corr, \"p-value =\", p)\n",
    "\n",
    "if corr > 0:\n",
    "    print(\":: Positive Correlation\")\n",
    "elif corr < 0:\n",
    "    print(\":: Negative Correlation\")\n",
    "else:\n",
    "    print(\":: No Correlation\")"
   ]
  },
  {
   "cell_type": "code",
   "execution_count": null,
   "metadata": {},
   "outputs": [],
   "source": []
  }
 ],
 "metadata": {
  "kernelspec": {
   "display_name": "Python 3",
   "language": "python",
   "name": "python3"
  },
  "language_info": {
   "codemirror_mode": {
    "name": "ipython",
    "version": 3
   },
   "file_extension": ".py",
   "mimetype": "text/x-python",
   "name": "python",
   "nbconvert_exporter": "python",
   "pygments_lexer": "ipython3",
   "version": "3.6.5"
  }
 },
 "nbformat": 4,
 "nbformat_minor": 2
}
